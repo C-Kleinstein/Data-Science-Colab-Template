{
  "nbformat": 4,
  "nbformat_minor": 0,
  "metadata": {
    "colab": {
      "provenance": [],
      "authorship_tag": "ABX9TyNwfZxZ8/c5ddcTwkUG0izn",
      "include_colab_link": true
    },
    "kernelspec": {
      "name": "python3",
      "display_name": "Python 3"
    },
    "language_info": {
      "name": "python"
    }
  },
  "cells": [
    {
      "cell_type": "markdown",
      "metadata": {
        "id": "view-in-github",
        "colab_type": "text"
      },
      "source": [
        "<a href=\"https://colab.research.google.com/github/C-Kleinstein/Data-Science-Colab-Template/blob/main/data_science.ipynb\" target=\"_parent\"><img src=\"https://colab.research.google.com/assets/colab-badge.svg\" alt=\"Open In Colab\"/></a>"
      ]
    },
    {
      "cell_type": "markdown",
      "source": [
        "# Data Science\n",
        "\n",
        "Simple Jupyter Notebook Example created in Google Colab."
      ],
      "metadata": {
        "id": "lK7utoPZaYIv"
      }
    },
    {
      "cell_type": "code",
      "source": [
        "print(\"Hello World!\")"
      ],
      "metadata": {
        "colab": {
          "base_uri": "https://localhost:8080/"
        },
        "id": "-OA0Zoi1aitN",
        "outputId": "a11e5089-7842-44de-9ab8-139a38878358"
      },
      "execution_count": 1,
      "outputs": [
        {
          "output_type": "stream",
          "name": "stdout",
          "text": [
            "Hello World!\n"
          ]
        }
      ]
    },
    {
      "cell_type": "markdown",
      "source": [
        "# Using Markdown to add links, images and highlighting\n",
        "\n",
        "Link: [GitHub Repository](https://github.com/C-Kleinstein/Data-Science-Colab-Template.git)\n",
        "\n",
        "\n",
        "Image:\n",
        "\n",
        "![Sample Image](https://www.google.ch/images/branding/googlelogo/1x/googlelogo_color_272x92dp.png \"Google Header\")\n",
        "\n",
        "Highlighting: <mark>This is Improtant</mark>"
      ],
      "metadata": {
        "id": "r8s31qOsdBZO"
      }
    },
    {
      "cell_type": "markdown",
      "source": [
        "## Ingest\n"
      ],
      "metadata": {
        "id": "JdUzGOglaj_v"
      }
    },
    {
      "cell_type": "code",
      "source": [],
      "metadata": {
        "id": "8f4H58iZam8F"
      },
      "execution_count": null,
      "outputs": []
    },
    {
      "cell_type": "markdown",
      "source": [
        "## Exploratory Data Analysis"
      ],
      "metadata": {
        "id": "8jgVT8I2anEk"
      }
    },
    {
      "cell_type": "code",
      "source": [],
      "metadata": {
        "id": "eb0AQYQfardK"
      },
      "execution_count": null,
      "outputs": []
    },
    {
      "cell_type": "markdown",
      "source": [
        "## Modelling"
      ],
      "metadata": {
        "id": "eUDtAmI7atTe"
      }
    },
    {
      "cell_type": "code",
      "source": [],
      "metadata": {
        "id": "kQcuOIqlauV8"
      },
      "execution_count": null,
      "outputs": []
    },
    {
      "cell_type": "markdown",
      "source": [
        "## Conclusion"
      ],
      "metadata": {
        "id": "X_Wx60OJaucs"
      }
    },
    {
      "cell_type": "code",
      "source": [],
      "metadata": {
        "id": "xRoBU8TRa16b"
      },
      "execution_count": null,
      "outputs": []
    }
  ]
}